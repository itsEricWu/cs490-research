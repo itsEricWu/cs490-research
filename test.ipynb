{
 "cells": [
  {
   "cell_type": "code",
   "execution_count": 8,
   "id": "4bf9d0e9",
   "metadata": {},
   "outputs": [],
   "source": [
    "import pickle\n",
    "import numpy as np"
   ]
  },
  {
   "cell_type": "code",
   "execution_count": 7,
   "id": "7585208d",
   "metadata": {},
   "outputs": [
    {
     "name": "stdout",
     "output_type": "stream",
     "text": [
      "[1.0, 1.0, 1.0, 1.7782794100389228, 1.7782794100389228, 1.7782794100389228, 3.1622776601683795, 3.1622776601683795, 3.1622776601683795, 5.623413251903491, 5.623413251903491, 5.623413251903491, 10.0, 10.0, 10.0, -1]\n",
      "16\n"
     ]
    }
   ],
   "source": [
    "condtion_list = pickle.load(open('/home/lu677/cs490/cs490-research/LeNet/condition_list', 'rb'))\n",
    "print(condtion_list)\n",
    "V_list = pickle.load(open('/home/lu677/cs490/cs490-research/LeNet/V_list', 'rb'))\n",
    "print(len(V_list))"
   ]
  },
  {
   "cell_type": "code",
   "execution_count": null,
   "id": "cd7d7881",
   "metadata": {},
   "outputs": [],
   "source": []
  }
 ],
 "metadata": {
  "interpreter": {
   "hash": "97913fc7932813b2333f58a484025e41534747bbeca4980ad7464ed62c079f99"
  },
  "kernelspec": {
   "display_name": "Python (DPLClass)",
   "language": "python",
   "name": "python3"
  },
  "language_info": {
   "codemirror_mode": {
    "name": "ipython",
    "version": 3
   },
   "file_extension": ".py",
   "mimetype": "text/x-python",
   "name": "python",
   "nbconvert_exporter": "python",
   "pygments_lexer": "ipython3",
   "version": "3.6.13"
  },
  "toc": {
   "base_numbering": 1,
   "nav_menu": {},
   "number_sections": true,
   "sideBar": true,
   "skip_h1_title": false,
   "title_cell": "Table of Contents",
   "title_sidebar": "Contents",
   "toc_cell": false,
   "toc_position": {},
   "toc_section_display": true,
   "toc_window_display": false
  },
  "varInspector": {
   "cols": {
    "lenName": 16,
    "lenType": 16,
    "lenVar": 40
   },
   "kernels_config": {
    "python": {
     "delete_cmd_postfix": "",
     "delete_cmd_prefix": "del ",
     "library": "var_list.py",
     "varRefreshCmd": "print(var_dic_list())"
    },
    "r": {
     "delete_cmd_postfix": ") ",
     "delete_cmd_prefix": "rm(",
     "library": "var_list.r",
     "varRefreshCmd": "cat(var_dic_list()) "
    }
   },
   "types_to_exclude": [
    "module",
    "function",
    "builtin_function_or_method",
    "instance",
    "_Feature"
   ],
   "window_display": false
  }
 },
 "nbformat": 4,
 "nbformat_minor": 5
}
